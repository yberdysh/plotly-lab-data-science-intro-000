{
 "cells": [
  {
   "cell_type": "markdown",
   "metadata": {},
   "source": [
    "### Introduction"
   ]
  },
  {
   "cell_type": "markdown",
   "metadata": {},
   "source": [
    "In this lab we will build out functions to help us plot visualizations in lessons going forward. "
   ]
  },
  {
   "cell_type": "markdown",
   "metadata": {},
   "source": [
    "### The Setup"
   ]
  },
  {
   "cell_type": "markdown",
   "metadata": {},
   "source": [
    "Let's start by providing a function called `plot` which plots our data."
   ]
  },
  {
   "cell_type": "code",
   "execution_count": 1,
   "metadata": {},
   "outputs": [
    {
     "data": {
      "text/html": [
       "<script>requirejs.config({paths: { 'plotly': ['https://cdn.plot.ly/plotly-latest.min']},});if(!window.Plotly) {{require(['plotly'],function(plotly) {window.Plotly=plotly;});}}</script>"
      ],
      "text/vnd.plotly.v1+html": [
       "<script>requirejs.config({paths: { 'plotly': ['https://cdn.plot.ly/plotly-latest.min']},});if(!window.Plotly) {{require(['plotly'],function(plotly) {window.Plotly=plotly;});}}</script>"
      ]
     },
     "metadata": {},
     "output_type": "display_data"
    }
   ],
   "source": [
    "import plotly\n",
    "from plotly.offline import iplot, init_notebook_mode\n",
    "\n",
    "init_notebook_mode(connected=True)\n",
    "\n",
    "def plot(figure):\n",
    "    plotly.offline.iplot(figure)"
   ]
  },
  {
   "cell_type": "markdown",
   "metadata": {},
   "source": [
    "To see our plot on the screen, we provide our `plot` function a dictionary.  The dictionary has a key of `data` which points to a list of traces.  Let's see it!"
   ]
  },
  {
   "cell_type": "code",
   "execution_count": 2,
   "metadata": {},
   "outputs": [
    {
     "data": {
      "application/vnd.plotly.v1+json": {
       "data": [
        {
         "x": [
          1,
          2,
          3
         ],
         "y": [
          2,
          3,
          4
         ]
        },
        {
         "x": [
          3,
          4,
          3
         ],
         "y": [
          5,
          3,
          4
         ]
        }
       ],
       "layout": {
        "title": "Our sample plot"
       }
      },
      "text/html": [
       "<div id=\"44389804-d39f-4109-85e4-506433170424\" style=\"height: 525px; width: 100%;\" class=\"plotly-graph-div\"></div><script type=\"text/javascript\">require([\"plotly\"], function(Plotly) { window.PLOTLYENV=window.PLOTLYENV || {};window.PLOTLYENV.BASE_URL=\"https://plot.ly\";Plotly.newPlot(\"44389804-d39f-4109-85e4-506433170424\", [{\"x\": [1, 2, 3], \"y\": [2, 3, 4]}, {\"x\": [3, 4, 3], \"y\": [5, 3, 4]}], {\"title\": \"Our sample plot\"}, {\"showLink\": true, \"linkText\": \"Export to plot.ly\"})});</script>"
      ],
      "text/vnd.plotly.v1+html": [
       "<div id=\"44389804-d39f-4109-85e4-506433170424\" style=\"height: 525px; width: 100%;\" class=\"plotly-graph-div\"></div><script type=\"text/javascript\">require([\"plotly\"], function(Plotly) { window.PLOTLYENV=window.PLOTLYENV || {};window.PLOTLYENV.BASE_URL=\"https://plot.ly\";Plotly.newPlot(\"44389804-d39f-4109-85e4-506433170424\", [{\"x\": [1, 2, 3], \"y\": [2, 3, 4]}, {\"x\": [3, 4, 3], \"y\": [5, 3, 4]}], {\"title\": \"Our sample plot\"}, {\"showLink\": true, \"linkText\": \"Export to plot.ly\"})});</script>"
      ]
     },
     "metadata": {},
     "output_type": "display_data"
    }
   ],
   "source": [
    "sample_trace = {'x': [1, 2, 3], 'y': [2, 3, 4]}\n",
    "other_sample_trace = {'x': [3, 4, 3], 'y': [5, 3, 4]}\n",
    "sample_figure = {'data': [sample_trace, other_sample_trace], 'layout': {'title': 'Our sample plot'}}\n",
    "plot(sample_figure)"
   ]
  },
  {
   "cell_type": "markdown",
   "metadata": {},
   "source": [
    "Ok, now that our `plot` function works, we need an easy way to create the following:  \n",
    "\n",
    "* traces\n",
    "* figures\n",
    "* layouts\n",
    "\n",
    "\n",
    "Let's take these one by one.  We'll start with a `build_trace` function that easily creates traces."
   ]
  },
  {
   "cell_type": "markdown",
   "metadata": {},
   "source": [
    "### A function to create traces"
   ]
  },
  {
   "cell_type": "markdown",
   "metadata": {},
   "source": [
    "#### build_trace"
   ]
  },
  {
   "cell_type": "markdown",
   "metadata": {},
   "source": [
    "Write a `build_trace` function that can take in data that comes in the following format: "
   ]
  },
  {
   "cell_type": "code",
   "execution_count": 3,
   "metadata": {},
   "outputs": [],
   "source": [
    "data = [{'x': 1, 'y': 1}, {'x': 3, 'y': 2}, {'x': 2, 'y': 5}]"
   ]
  },
  {
   "cell_type": "markdown",
   "metadata": {},
   "source": [
    "And returns data like the commented out dictionary below: \n",
    "\n",
    "```python\n",
    "data = [{'x': 1, 'y': 1}, {'x': 3, 'y': 2}, {'x': 2, 'y': 5}]\n",
    "build_trace(data)\n",
    "# {'x': [1, 3, 2], 'y': [1, 2, 5]}\n",
    "```\n",
    "\n",
    "So `build_trace` that takes in a list of datapoints as arguments and returns a dictionary with a key of `x` that points to a list of x values, and a key of `y` that points to a list of y values."
   ]
  },
  {
   "cell_type": "code",
   "execution_count": 4,
   "metadata": {},
   "outputs": [],
   "source": [
    "def build_trace(data, mode = 'markers', name = 'data'):\n",
    "    x_s = []\n",
    "    y_s = []\n",
    "    for item in data:\n",
    "        x_s.append(item['x'])\n",
    "        y_s.append(item['y'])\n",
    "    return dict(x=x_s, y=y_s, mode=mode, name=name)"
   ]
  },
  {
   "cell_type": "code",
   "execution_count": 5,
   "metadata": {},
   "outputs": [
    {
     "data": {
      "text/plain": [
       "{'x': [1, 3, 2], 'y': [1, 2, 5], 'mode': 'markers', 'name': 'data'}"
      ]
     },
     "execution_count": 5,
     "metadata": {},
     "output_type": "execute_result"
    }
   ],
   "source": [
    "data = [{'x': 1, 'y': 1}, {'x': 3, 'y': 2}, {'x': 2, 'y': 5}]\n",
    "build_trace(data)\n",
    "# {'x': [1, 3, 2], 'y': [1, 2, 5]}"
   ]
  },
  {
   "cell_type": "markdown",
   "metadata": {},
   "source": [
    "We want our `build_trace` function to take an argument named mode, that will set the mode of the trace.  The value passed through as the mode argument, should correspond to the value of the `mode` key in our returned dictionary.    "
   ]
  },
  {
   "cell_type": "code",
   "execution_count": 6,
   "metadata": {},
   "outputs": [
    {
     "data": {
      "text/plain": [
       "{'x': [1, 3, 2], 'y': [1, 2, 5], 'mode': 'markers', 'name': 'data'}"
      ]
     },
     "execution_count": 6,
     "metadata": {},
     "output_type": "execute_result"
    }
   ],
   "source": [
    "build_trace(data, 'markers')\n",
    "# {'mode': 'markers', 'x': [1, 3, 2], 'y': [1, 2, 5]}"
   ]
  },
  {
   "cell_type": "markdown",
   "metadata": {},
   "source": [
    "By default, our mode should be set to markers.  So have the `mode` argument have a default value set to 'markers'."
   ]
  },
  {
   "cell_type": "code",
   "execution_count": 7,
   "metadata": {},
   "outputs": [
    {
     "data": {
      "text/plain": [
       "{'x': [1, 3, 2], 'y': [1, 2, 5], 'mode': 'markers', 'name': 'data'}"
      ]
     },
     "execution_count": 7,
     "metadata": {},
     "output_type": "execute_result"
    }
   ],
   "source": [
    "build_trace(data)\n",
    "# {'mode': 'markers', 'x': [1, 3, 2], 'y': [1, 2, 5]}"
   ]
  },
  {
   "cell_type": "markdown",
   "metadata": {},
   "source": [
    "Finally, we want to be able to set the name of the trace.  This will be useful when we have more than one trace in the same plot.  We need an argument named `name`, that sets the name of the trace.  \n",
    "\n",
    "> The value passed through as the `name` argument, should correspond to the value of the `name` key in our returned dictionary."
   ]
  },
  {
   "cell_type": "code",
   "execution_count": 8,
   "metadata": {},
   "outputs": [
    {
     "data": {
      "text/plain": [
       "{'x': [1, 3, 2], 'y': [1, 2, 5], 'mode': 'markers', 'name': 'sample plot'}"
      ]
     },
     "execution_count": 8,
     "metadata": {},
     "output_type": "execute_result"
    }
   ],
   "source": [
    "build_trace(data, 'markers', 'sample plot')\n",
    "# {'mode': 'markers', 'name': 'sample plot', 'x': [1, 3, 2], 'y': [1, 2, 5]}"
   ]
  },
  {
   "cell_type": "markdown",
   "metadata": {},
   "source": [
    "Ok, now we have built a function to easily generate a trace.  Let's see it in action!  Uncomment some of the code below and try it out! Experiment with having your trace display with 'markers' or 'lines'.  You can only see the name of the plot if more than one trace is present, so practice adding more than one trace, to the plot."
   ]
  },
  {
   "cell_type": "code",
   "execution_count": 9,
   "metadata": {},
   "outputs": [],
   "source": [
    "trace0 = build_trace(data)\n",
    "\n",
    "# trace0 = build_trace(data, 'markers')\n",
    "# trace1 = build_trace(data, 'lines', 'my_trace')\n",
    "# plot({'data':[trace0, trace1]})"
   ]
  },
  {
   "cell_type": "markdown",
   "metadata": {},
   "source": [
    "#### trace_values"
   ]
  },
  {
   "cell_type": "markdown",
   "metadata": {},
   "source": [
    "Now let's write another function to create a trace called `trace_values`.  It works just like our `build_trace` function, except that it takes in a list of x_values and a list of y_values and returns our trace dictionary.  "
   ]
  },
  {
   "cell_type": "code",
   "execution_count": 10,
   "metadata": {},
   "outputs": [],
   "source": [
    "def trace_values(x_values, y_values, mode = 'markers', name=\"data\"):\n",
    "     return dict(x=x_values, y=y_values, mode=mode, name=name)"
   ]
  },
  {
   "cell_type": "code",
   "execution_count": 11,
   "metadata": {},
   "outputs": [
    {
     "data": {
      "text/plain": [
       "{'x': [1, 2, 3], 'y': [2, 4, 5], 'mode': 'markers', 'name': 'data'}"
      ]
     },
     "execution_count": 11,
     "metadata": {},
     "output_type": "execute_result"
    }
   ],
   "source": [
    "trace_values([1, 2, 3], [2, 4, 5])\n",
    "\n",
    "# {'x': [1, 2, 3], 'y': [2, 4, 5]}"
   ]
  },
  {
   "cell_type": "markdown",
   "metadata": {},
   "source": [
    "Just like our `build_trace` function, the `trace_values` function should allow us to take in an argument of `mode`, and `name` to set the value to the `mode` key, and the value to the `name` key in our returned dictionary. "
   ]
  },
  {
   "cell_type": "code",
   "execution_count": 12,
   "metadata": {},
   "outputs": [
    {
     "data": {
      "text/plain": [
       "{'x': [1, 2, 3], 'y': [2, 4, 5], 'mode': 'line', 'name': 'line trace'}"
      ]
     },
     "execution_count": 12,
     "metadata": {},
     "output_type": "execute_result"
    }
   ],
   "source": [
    "trace_values([1, 2, 3], [2, 4, 5], 'line', 'line trace')\n",
    "# {'mode': 'line', 'name': 'line trace', 'x': [1, 2, 3], 'y': [2, 4, 5]}"
   ]
  },
  {
   "cell_type": "markdown",
   "metadata": {},
   "source": [
    "From there, we can use our `trace_values` function to plot our chart."
   ]
  },
  {
   "cell_type": "markdown",
   "metadata": {},
   "source": [
    "> Uncomment and run the code below"
   ]
  },
  {
   "cell_type": "code",
   "execution_count": 12,
   "metadata": {},
   "outputs": [
    {
     "data": {
      "application/vnd.plotly.v1+json": {
       "data": [
        {
         "mode": "line",
         "name": "line trace",
         "x": [
          1,
          2,
          3
         ],
         "y": [
          2,
          4,
          5
         ]
        }
       ],
       "layout": {}
      },
      "text/html": [
       "<div id=\"ca1c03f6-a2cc-4215-896b-d167f457d82d\" style=\"height: 525px; width: 100%;\" class=\"plotly-graph-div\"></div><script type=\"text/javascript\">require([\"plotly\"], function(Plotly) { window.PLOTLYENV=window.PLOTLYENV || {};window.PLOTLYENV.BASE_URL=\"https://plot.ly\";Plotly.newPlot(\"ca1c03f6-a2cc-4215-896b-d167f457d82d\", [{\"x\": [1, 2, 3], \"y\": [2, 4, 5], \"mode\": \"line\", \"name\": \"line trace\"}], {}, {\"showLink\": true, \"linkText\": \"Export to plot.ly\"})});</script>"
      ],
      "text/vnd.plotly.v1+html": [
       "<div id=\"ca1c03f6-a2cc-4215-896b-d167f457d82d\" style=\"height: 525px; width: 100%;\" class=\"plotly-graph-div\"></div><script type=\"text/javascript\">require([\"plotly\"], function(Plotly) { window.PLOTLYENV=window.PLOTLYENV || {};window.PLOTLYENV.BASE_URL=\"https://plot.ly\";Plotly.newPlot(\"ca1c03f6-a2cc-4215-896b-d167f457d82d\", [{\"x\": [1, 2, 3], \"y\": [2, 4, 5], \"mode\": \"line\", \"name\": \"line trace\"}], {}, {\"showLink\": true, \"linkText\": \"Export to plot.ly\"})});</script>"
      ]
     },
     "metadata": {},
     "output_type": "display_data"
    }
   ],
   "source": [
    "trace2 = trace_values([1, 2, 3], [2, 4, 5], 'line', 'line trace')\n",
    "plot({'data': [trace2]})"
   ]
  },
  {
   "cell_type": "markdown",
   "metadata": {},
   "source": [
    "### Creating layouts"
   ]
  },
  {
   "cell_type": "markdown",
   "metadata": {},
   "source": [
    "Ok, now that we have built some functions to create traces, let's write a function to create a layout.  Remember that our layout also can be passed to our plot function."
   ]
  },
  {
   "cell_type": "markdown",
   "metadata": {},
   "source": [
    "> Uncomment and run the code below."
   ]
  },
  {
   "cell_type": "code",
   "execution_count": 13,
   "metadata": {},
   "outputs": [
    {
     "data": {
      "application/vnd.plotly.v1+json": {
       "data": [
        {
         "mode": "markers",
         "name": "data",
         "x": [
          1,
          3,
          2
         ],
         "y": [
          1,
          2,
          5
         ]
        },
        {
         "mode": "line",
         "name": "line trace",
         "x": [
          1,
          2,
          3
         ],
         "y": [
          2,
          4,
          5
         ]
        }
       ],
       "layout": {
        "title": "Sample Title"
       }
      },
      "text/html": [
       "<div id=\"2a451e13-a82c-46af-ab54-46c7c50c4de5\" style=\"height: 525px; width: 100%;\" class=\"plotly-graph-div\"></div><script type=\"text/javascript\">require([\"plotly\"], function(Plotly) { window.PLOTLYENV=window.PLOTLYENV || {};window.PLOTLYENV.BASE_URL=\"https://plot.ly\";Plotly.newPlot(\"2a451e13-a82c-46af-ab54-46c7c50c4de5\", [{\"x\": [1, 3, 2], \"y\": [1, 2, 5], \"mode\": \"markers\", \"name\": \"data\"}, {\"x\": [1, 2, 3], \"y\": [2, 4, 5], \"mode\": \"line\", \"name\": \"line trace\"}], {\"title\": \"Sample Title\"}, {\"showLink\": true, \"linkText\": \"Export to plot.ly\"})});</script>"
      ],
      "text/vnd.plotly.v1+html": [
       "<div id=\"2a451e13-a82c-46af-ab54-46c7c50c4de5\" style=\"height: 525px; width: 100%;\" class=\"plotly-graph-div\"></div><script type=\"text/javascript\">require([\"plotly\"], function(Plotly) { window.PLOTLYENV=window.PLOTLYENV || {};window.PLOTLYENV.BASE_URL=\"https://plot.ly\";Plotly.newPlot(\"2a451e13-a82c-46af-ab54-46c7c50c4de5\", [{\"x\": [1, 3, 2], \"y\": [1, 2, 5], \"mode\": \"markers\", \"name\": \"data\"}, {\"x\": [1, 2, 3], \"y\": [2, 4, 5], \"mode\": \"line\", \"name\": \"line trace\"}], {\"title\": \"Sample Title\"}, {\"showLink\": true, \"linkText\": \"Export to plot.ly\"})});</script>"
      ]
     },
     "metadata": {},
     "output_type": "display_data"
    }
   ],
   "source": [
    "plot({'data': [trace0, trace2], 'layout': {'title': 'Sample Title'}})"
   ]
  },
  {
   "cell_type": "markdown",
   "metadata": {},
   "source": [
    "Ok, in building a layout, we should return a dictionary. "
   ]
  },
  {
   "cell_type": "code",
   "execution_count": 16,
   "metadata": {},
   "outputs": [
    {
     "ename": "SyntaxError",
     "evalue": "invalid syntax (<ipython-input-16-600c5a0f234e>, line 9)",
     "output_type": "error",
     "traceback": [
      "\u001b[0;36m  File \u001b[0;32m\"<ipython-input-16-600c5a0f234e>\"\u001b[0;36m, line \u001b[0;32m9\u001b[0m\n\u001b[0;31m    else:\u001b[0m\n\u001b[0m       ^\u001b[0m\n\u001b[0;31mSyntaxError\u001b[0m\u001b[0;31m:\u001b[0m invalid syntax\n"
     ]
    }
   ],
   "source": [
    "def layout(x_range = None, y_range = None, options = {}):\n",
    "    if not x_range and not y_range:\n",
    "        return {}\n",
    "    else:\n",
    "        if x_range and y_range:\n",
    "            return dict(xaxis=dict(range=x_range), yaxis=dict(range=y_range))\n",
    "        elif x_range:\n",
    "            return dict(xaxis=dict(range=x_range)\n",
    "        else:\n",
    "            return yaxis=dict(range=y_range)            "
   ]
  },
  {
   "cell_type": "code",
   "execution_count": 15,
   "metadata": {},
   "outputs": [
    {
     "data": {
      "text/plain": [
       "{'xaxis': {'range': None}}"
      ]
     },
     "execution_count": 15,
     "metadata": {},
     "output_type": "execute_result"
    }
   ],
   "source": [
    "layout()\n",
    "# {}"
   ]
  },
  {
   "cell_type": "markdown",
   "metadata": {},
   "source": [
    "#### Setting the xaxis and yaxis range"
   ]
  },
  {
   "cell_type": "markdown",
   "metadata": {},
   "source": [
    "Oftentimes in building a layout, we want an easy way to set the range for the `x` and `y` axis.  To set a range in the x-axis of $1$ through $4$, and a range of the y-axis of $2$ through $5$ we return a layout of the following structure.\n",
    "```python\n",
    "{'xaxis': {'range': [1, 4]}, 'yaxis': {'range': [2, 5]}}\n",
    "```\n",
    "\n",
    "Let's start with adding functionality to the `layout()` function so it can set the range for the x-axis.  (**Hint**: Google search Python's built-in `isinstance()` and `update()` functions.)\n",
    "\n",
    "Add an argument of x_range returns a dictionary with a range set on the xaxis."
   ]
  },
  {
   "cell_type": "code",
   "execution_count": null,
   "metadata": {},
   "outputs": [],
   "source": [
    "layout([1, 4])\n",
    "# {'xaxis': {'range': [1, 4]}}"
   ]
  },
  {
   "cell_type": "markdown",
   "metadata": {},
   "source": [
    "We want to ensure that when an x_range is not provided, an empty dictionary is still returned.  \n",
    "```python\n",
    "layout()\n",
    "# {}\n",
    "\n",
    "```\n",
    "The `x_range` should be a default argument that sets `x_range` to `None`.  Then, only add a key of xaxis to the dictionary layout when the `x_range` does not equal `None`."
   ]
  },
  {
   "cell_type": "code",
   "execution_count": null,
   "metadata": {},
   "outputs": [],
   "source": [
    "layout() # {}"
   ]
  },
  {
   "cell_type": "markdown",
   "metadata": {},
   "source": [
    "Now let's provide the same functionality for the `y_range`.  When the `y_range` is provided we add a key of `yaxis` which points to a dictionary that expresses the y-axis range."
   ]
  },
  {
   "cell_type": "code",
   "execution_count": null,
   "metadata": {
    "scrolled": true
   },
   "outputs": [],
   "source": [
    "layout([1, 3], [4, 5])\n",
    "# {'xaxis': {'range': [1, 3]}, 'yaxis': {'range': [4, 5]}}"
   ]
  },
  {
   "cell_type": "markdown",
   "metadata": {},
   "source": [
    "#### Adding layout options"
   ]
  },
  {
   "cell_type": "markdown",
   "metadata": {},
   "source": [
    "Now have the final argument of our layout function be options.  The `options` argument should by default point to a dictionary.  And whatever is provided as pointing to the options argument should be updated into the returned dictionary.    "
   ]
  },
  {
   "cell_type": "code",
   "execution_count": null,
   "metadata": {
    "scrolled": false
   },
   "outputs": [],
   "source": [
    "layout(options = {'title': 'foo'})"
   ]
  },
  {
   "cell_type": "code",
   "execution_count": null,
   "metadata": {},
   "outputs": [],
   "source": [
    "layout([1, 3], options = {'title': 'chart'})\n",
    "\n",
    "# {'title': 'chart', 'xaxis': {'range': [1, 3]}}"
   ]
  },
  {
   "cell_type": "markdown",
   "metadata": {},
   "source": [
    "Ok, now let's see this `layout` function in action."
   ]
  },
  {
   "cell_type": "code",
   "execution_count": null,
   "metadata": {},
   "outputs": [],
   "source": [
    "another_trace = trace_values([1, 2, 3], [6, 3, 1])\n",
    "another_layout = layout([-1, 4], [0, 7], {'title': 'Going Down...'})\n",
    "# plot({'data': [another_trace], 'layout': another_layout})"
   ]
  },
  {
   "cell_type": "markdown",
   "metadata": {},
   "source": [
    "Finally, we'll modify the `plot` function for you so that it takes the data, and the layout as arguments."
   ]
  },
  {
   "cell_type": "code",
   "execution_count": null,
   "metadata": {},
   "outputs": [],
   "source": [
    "def plot(traces = [], layout = {}):\n",
    "    if not isinstance(traces, list): raise TypeError('first argument must be a list.  Instead is', traces)\n",
    "    if not isinstance(layout, dict): raise TypeError('second argument must be a dict.  Instead is', layout)\n",
    "    plotly.offline.iplot({'data': traces, 'layout': layout})"
   ]
  },
  {
   "cell_type": "markdown",
   "metadata": {},
   "source": [
    "Uncomment the below code to see the updated `plot` function in action.  "
   ]
  },
  {
   "cell_type": "code",
   "execution_count": null,
   "metadata": {},
   "outputs": [],
   "source": [
    "trace4 = trace_values([4, 5, 6], [10, 5, 1], mode = 'lines')\n",
    "last_layout = layout(options = {'title': 'The big picture'})\n",
    "plot([trace4], last_layout)"
   ]
  },
  {
   "cell_type": "markdown",
   "metadata": {
    "collapsed": true
   },
   "source": [
    "### Summary "
   ]
  },
  {
   "cell_type": "markdown",
   "metadata": {},
   "source": [
    "In this lab, we built out some methods so that we can easily create graphs going forward.  We'll make good use of them in the lessons to come, as well as write new methods to help us easily display information in our charts."
   ]
  }
 ],
 "metadata": {
  "kernelspec": {
   "display_name": "Python 3",
   "language": "python",
   "name": "python3"
  },
  "language_info": {
   "codemirror_mode": {
    "name": "ipython",
    "version": 3
   },
   "file_extension": ".py",
   "mimetype": "text/x-python",
   "name": "python",
   "nbconvert_exporter": "python",
   "pygments_lexer": "ipython3",
   "version": "3.6.4"
  }
 },
 "nbformat": 4,
 "nbformat_minor": 2
}
